{
  "cells": [
    {
      "cell_type": "markdown",
      "metadata": {
        "colab_type": "text",
        "id": "NpJd3dlOCStH"
      },
      "source": [
        "\u003ca href=\"https://colab.research.google.com/github/magenta/ddsp/blob/master/ddsp/colab/tutorials/3_training.ipynb\" target=\"_parent\"\u003e\u003cimg src=\"https://colab.research.google.com/assets/colab-badge.svg\" alt=\"Open In Colab\"/\u003e\u003c/a\u003e"
      ]
    },
    {
      "cell_type": "markdown",
      "metadata": {
        "colab_type": "text",
        "id": "hMqWDc_m6rUC"
      },
      "source": [
        "\n",
        "##### Copyright 2020 Google LLC.\n",
        "\n",
        "Licensed under the Apache License, Version 2.0 (the \"License\");\n",
        "\n",
        "\n",
        "\n"
      ]
    },
    {
      "cell_type": "code",
      "execution_count": 0,
      "metadata": {
        "colab": {},
        "colab_type": "code",
        "id": "VNhgka4UKNjf"
      },
      "outputs": [],
      "source": [
        "# Copyright 2020 Google LLC. All Rights Reserved.\n",
        "#\n",
        "# Licensed under the Apache License, Version 2.0 (the \"License\");\n",
        "# you may not use this file except in compliance with the License.\n",
        "# You may obtain a copy of the License at\n",
        "#\n",
        "#     http://www.apache.org/licenses/LICENSE-2.0\n",
        "#\n",
        "# Unless required by applicable law or agreed to in writing, software\n",
        "# distributed under the License is distributed on an \"AS IS\" BASIS,\n",
        "# WITHOUT WARRANTIES OR CONDITIONS OF ANY KIND, either express or implied.\n",
        "# See the License for the specific language governing permissions and\n",
        "# limitations under the License.\n",
        "# =============================================================================="
      ]
    },
    {
      "cell_type": "markdown",
      "metadata": {
        "colab_type": "text",
        "id": "ZFIqwYGbZ-df"
      },
      "source": [
        "# DDSP Training\n",
        "\n",
        "This notebook demonstrates the libraries in [https://github.com/magenta/ddsp/tree/master/ddsp/training](https://github.com/magenta/ddsp/tree/master/ddsp/training). It is a simple example, overfitting a single audio sample, for educational purposes. \n",
        "\n",
        "_For a full training pipeline please use [ddsp/training/ddsp_run.py](https://github.com/magenta/ddsp/blob/master/ddsp/training/README.md#train-1) as in the [train_autoencoder.ipynb](https://github.com/magenta/ddsp/blob/master/ddsp/colab/demos/train_autoencoder.ipynb)_.\n",
        "\n"
      ]
    },
    {
      "cell_type": "code",
      "execution_count": 0,
      "metadata": {
        "cellView": "form",
        "colab": {},
        "colab_type": "code",
        "id": "S_jXCnwZ2QYW"
      },
      "outputs": [],
      "source": [
        "#@title Install and import dependencies\n",
        "\n",
        "!pip install -qU ddsp\n",
        "\n",
        "# Ignore a bunch of deprecation warnings\n",
        "import warnings\n",
        "warnings.filterwarnings(\"ignore\")\n",
        "\n",
        "import time\n",
        "\n",
        "import ddsp\n",
        "import ddsp.training\n",
        "from ddsp.colab.colab_utils import play, specplot, DEFAULT_SAMPLE_RATE\n",
        "import gin\n",
        "import matplotlib.pyplot as plt\n",
        "import numpy as np\n",
        "import tensorflow.compat.v1 as tf\n",
        "import tensorflow_datasets as tfds\n",
        "\n",
        "tf.disable_v2_behavior()\n",
        "sample_rate = DEFAULT_SAMPLE_RATE  # 16000"
      ]
    },
    {
      "cell_type": "markdown",
      "metadata": {
        "colab_type": "text",
        "id": "khYj8yiMDxGL"
      },
      "source": [
        "# Get a Batch of Data"
      ]
    },
    {
      "cell_type": "code",
      "execution_count": 0,
      "metadata": {
        "colab": {},
        "colab_type": "code",
        "id": "IzzaWKxVkYms"
      },
      "outputs": [],
      "source": [
        "# Get a single example from NSynth.\n",
        "# Takes a few seconds to load from GCS.\n",
        "tf.reset_default_graph()\n",
        "data_provider = ddsp.training.data.NSynthTfds(split='test')\n",
        "batch = data_provider.get_batch(batch_size=1, shuffle=False)\n",
        "batch = next(tfds.as_numpy(batch))\n",
        "audio = batch['audio']\n",
        "n_samples = audio.shape[1]\n",
        "\n",
        "specplot(audio, sess=tf.Session())\n",
        "play(audio)"
      ]
    },
    {
      "cell_type": "markdown",
      "metadata": {
        "colab_type": "text",
        "id": "Bo337pQdDiar"
      },
      "source": [
        "# Train"
      ]
    },
    {
      "cell_type": "markdown",
      "metadata": {
        "colab_type": "text",
        "id": "EWZQXFLehCU0"
      },
      "source": [
        "### Model in python "
      ]
    },
    {
      "cell_type": "code",
      "execution_count": 0,
      "metadata": {
        "colab": {},
        "colab_type": "code",
        "id": "HCqXRY1KeX8S"
      },
      "outputs": [],
      "source": [
        "tf.reset_default_graph()\n",
        "preprocessing = ddsp.training.preprocessing\n",
        "encoders = ddsp.training.encoders\n",
        "decoders = ddsp.training.decoders\n",
        "models = ddsp.training.models\n",
        "TIME_STEPS = 1000\n",
        "\n",
        "# Create Neural Networks.\n",
        "preprocessor = preprocessing.DefaultPreprocessor(time_steps=TIME_STEPS)\n",
        "\n",
        "decoder = decoders.RnnFcDecoder(rnn_channels = 256,\n",
        "                                rnn_type = 'gru',\n",
        "                                ch = 256,\n",
        "                                layers_per_stack = 1,\n",
        "                                output_splits = (('amps', 1),\n",
        "                                                 ('harmonic_distribution', 20),\n",
        "                                                 ('noise_magnitudes', 20)))\n",
        "\n",
        "# Create Processors.\n",
        "additive = ddsp.synths.Additive(n_samples=n_samples, \n",
        "                                sample_rate=sample_rate,\n",
        "                                name='additive')\n",
        "noise = ddsp.synths.FilteredNoise(window_size=0,\n",
        "                                  initial_bias=-10.0,\n",
        "                                  name='noise')\n",
        "add = ddsp.processors.Add(name='add')\n",
        "\n",
        "# Create ProcessorGroup.\n",
        "dag = [(additive, ['amps', 'harmonic_distribution', 'f0_hz']),\n",
        "       (noise, ['noise_magnitudes']),\n",
        "       (add, ['noise/signal', 'additive/signal'])]\n",
        "\n",
        "processor_group = ddsp.processors.ProcessorGroup(dag=dag,\n",
        "                                                 name='processor_group')\n",
        "\n",
        "\n",
        "# Loss_functions\n",
        "spectral_loss = ddsp.losses.SpectralLoss(loss_type='L1',\n",
        "                                         mag_weight=1.0,\n",
        "                                         logmag_weight=1.0)\n",
        "\n",
        "# Put it together in a model.\n",
        "model = models.Autoencoder(preprocessor=preprocessor,\n",
        "                           encoder=None,\n",
        "                           decoder=decoder,\n",
        "                           processor_group=processor_group,\n",
        "                           losses=[spectral_loss])"
      ]
    },
    {
      "cell_type": "markdown",
      "metadata": {
        "colab_type": "text",
        "id": "uAZgDMV9hGyp"
      },
      "source": [
        "#### Or model in gin..."
      ]
    },
    {
      "cell_type": "code",
      "execution_count": 0,
      "metadata": {
        "colab": {},
        "colab_type": "code",
        "id": "1JPmTwQshVya"
      },
      "outputs": [],
      "source": [
        "tf.reset_default_graph()\n",
        "gin_string = \"\"\"\n",
        "import ddsp\n",
        "import ddsp.training\n",
        "\n",
        "# Preprocessor\n",
        "models.Autoencoder.preprocessor = @preprocessing.DefaultPreprocessor()\n",
        "preprocessing.DefaultPreprocessor.time_steps = 1000\n",
        "\n",
        "\n",
        "# Encoder\n",
        "models.Autoencoder.encoder = None\n",
        "\n",
        "# Decoder\n",
        "models.Autoencoder.decoder = @decoders.RnnFcDecoder()\n",
        "decoders.RnnFcDecoder.rnn_channels = 256\n",
        "decoders.RnnFcDecoder.rnn_type = 'gru'\n",
        "decoders.RnnFcDecoder.ch = 256\n",
        "decoders.RnnFcDecoder.layers_per_stack = 1\n",
        "decoders.RnnFcDecoder.output_splits = (('amps', 1),\n",
        "                                       ('harmonic_distribution', 20),\n",
        "                                       ('noise_magnitudes', 20))\n",
        "\n",
        "# ProcessorGroup\n",
        "models.Autoencoder.processor_group = @processors.ProcessorGroup()\n",
        "\n",
        "processors.ProcessorGroup.dag = [\n",
        "  (@additive/synths.Additive(),\n",
        "    ['amps', 'harmonic_distribution', 'f0_hz']),\n",
        "  (@noise/synths.FilteredNoise(),\n",
        "    ['noise_magnitudes']),\n",
        "  (@add/processors.Add(),\n",
        "    ['noise/signal', 'additive/signal']),\n",
        "]\n",
        "\n",
        "# Additive Synthesizer\n",
        "additive/synths.Additive.name = 'additive'\n",
        "additive/synths.Additive.n_samples = 64000\n",
        "additive/synths.Additive.scale_fn = @core.exp_sigmoid\n",
        "\n",
        "# Filtered Noise Synthesizer\n",
        "noise/synths.FilteredNoise.name = 'noise'\n",
        "noise/synths.FilteredNoise.n_samples = 64000\n",
        "noise/synths.FilteredNoise.initial_bias = -10.0\n",
        "\n",
        "# Add\n",
        "add/processors.Add.name = 'add'\n",
        "\n",
        "models.Autoencoder.losses = [\n",
        "    @losses.SpectralLoss(),\n",
        "]\n",
        "losses.SpectralLoss.loss_type = 'L1'\n",
        "losses.SpectralLoss.mag_weight = 1.0\n",
        "losses.SpectralLoss.logmag_weight = 1.0\n",
        "\"\"\"\n",
        "\n",
        "with gin.unlock_config():\n",
        "  gin.parse_config(gin_string)\n",
        "\n",
        "# Autoencoder arguments are filled by gin.\n",
        "model = ddsp.training.models.Autoencoder()"
      ]
    },
    {
      "cell_type": "markdown",
      "metadata": {
        "colab_type": "text",
        "id": "zSsvL1geY0_S"
      },
      "source": [
        "## Get training op"
      ]
    },
    {
      "cell_type": "code",
      "execution_count": 0,
      "metadata": {
        "colab": {},
        "colab_type": "code",
        "id": "1lQW604_QWm1"
      },
      "outputs": [],
      "source": [
        "learning_rate = 1e-3\n",
        "use_tpu = True  # Set: Runtime -\u003e Set Runtime Type -\u003e (TPU or GPU)\n",
        "\n",
        "# Get model predictions for the batch.\n",
        "start_time = time.time()\n",
        "outputs = model(batch)\n",
        "loss = outputs['total_loss']\n",
        "train_op = ddsp.training.train_util.get_train_op(loss, \n",
        "                                                 learning_rate=learning_rate,\n",
        "                                                 use_tpu=use_tpu)\n",
        "print('Setting up the graph took %.1f seconds' % (time.time() - start_time))\n",
        "\n",
        "# Setup the session.\n",
        "if use_tpu:\n",
        "  import os\n",
        "  assert \"COLAB_TPU_ADDR\" in os.environ, \"ERROR: Not connected to a TPU runtime; please set the runtime type to 'TPU'.\"\n",
        "  TPU_ADDRESS = \"grpc://\" + os.environ[\"COLAB_TPU_ADDR\"]\n",
        "  sess = tf.Session(TPU_ADDRESS)\n",
        "else:\n",
        "  # Set: Runtime -\u003e Set Runtime Type -\u003e GPU\n",
        "  sess = tf.Session()\n",
        "\n",
        "start_time = time.time()\n",
        "sess.run(tf.initialize_all_variables())\n",
        "print('Initializing model took %.1f seconds' % (time.time() - start_time))"
      ]
    },
    {
      "cell_type": "markdown",
      "metadata": {
        "colab_type": "text",
        "id": "RFEqt6e1DsqG"
      },
      "source": [
        "## Train Loop"
      ]
    },
    {
      "cell_type": "code",
      "execution_count": 0,
      "metadata": {
        "colab": {},
        "colab_type": "code",
        "id": "LWdoRIONDxri"
      },
      "outputs": [],
      "source": [
        "for i in range(300):\n",
        "  _, loss_ = sess.run([train_op, loss])\n",
        "  print('i: {}\\tLoss: {}'.format(i, loss_))"
      ]
    },
    {
      "cell_type": "markdown",
      "metadata": {
        "colab_type": "text",
        "id": "2cj220vSF8_Y"
      },
      "source": [
        "# Analyze results"
      ]
    },
    {
      "cell_type": "code",
      "execution_count": 0,
      "metadata": {
        "colab": {},
        "colab_type": "code",
        "id": "mDU_FysURm_Z"
      },
      "outputs": [],
      "source": [
        "# Run a batch of predictions.\n",
        "start_time = time.time()\n",
        "predictions = sess.run(outputs)\n",
        "print('Prediction took %.1f seconds' % (time.time() - start_time))"
      ]
    },
    {
      "cell_type": "code",
      "execution_count": 0,
      "metadata": {
        "colab": {},
        "colab_type": "code",
        "id": "DVhoLzV-ZYav"
      },
      "outputs": [],
      "source": [
        "batch_idx = 0\n",
        "get = lambda key: ddsp.core.nested_lookup(key, predictions)[batch_idx]\n",
        "\n",
        "audio = get('audio')\n",
        "audio_gen = get('audio_gen')\n",
        "amps = get('additive/controls/amplitudes')\n",
        "harmonic_distribution = get('additive/controls/harmonic_distribution')\n",
        "f0_hz = get('f0_hz')\n",
        "loudness = get('loudness_db')\n",
        "\n",
        "print('Original Audio')\n",
        "play(audio)\n",
        "print('Resynthesized Audio')\n",
        "play(audio_gen)\n",
        "\n",
        "specplot(audio, sess=sess)\n",
        "plt.title('Audio')\n",
        "specplot(audio_gen, sess=sess)\n",
        "plt.title('Audio Synth')\n",
        "\n",
        "f, ax = plt.subplots(1, 2, figsize=(14, 4))\n",
        "ax[0].semilogy(amps)\n",
        "ax[0].set_xlabel('Amps')\n",
        "ax[0].set_ylim(1e-5, 2)\n",
        "ax[1].plot(loudness)\n",
        "ax[1].set_xlabel('loudness')\n",
        "\n",
        "f, ax = plt.subplots(1, 2, figsize=(14, 4))\n",
        "ax[0].plot(harmonic_distribution)\n",
        "ax[0].set_title('Harmonic Distribution')\n",
        "ax[1].plot(f0_hz)\n",
        "_ = ax[1].set_title('F0_Hz')\n"
      ]
    }
  ],
  "metadata": {
    "accelerator": "TPU",
    "colab": {
      "collapsed_sections": [
        "hMqWDc_m6rUC"
      ],
      "last_runtime": {},
      "name": "3_training.ipynb",
      "provenance": [],
      "toc_visible": true
    },
    "kernelspec": {
      "display_name": "Python 3",
      "name": "python3"
    }
  },
  "nbformat": 4,
  "nbformat_minor": 0
}
